{
  "nbformat": 4,
  "nbformat_minor": 0,
  "metadata": {
    "colab": {
      "provenance": [],
      "authorship_tag": "ABX9TyOGHkQAP9RA4B5+u8HzB3HE",
      "include_colab_link": true
    },
    "kernelspec": {
      "name": "python3",
      "display_name": "Python 3"
    },
    "language_info": {
      "name": "python"
    }
  },
  "cells": [
    {
      "cell_type": "markdown",
      "metadata": {
        "id": "view-in-github",
        "colab_type": "text"
      },
      "source": [
        "<a href=\"https://colab.research.google.com/github/perurianusha/git-repo/blob/master/SHL_Assessment_Recommendation_Engine.ipynb\" target=\"_parent\"><img src=\"https://colab.research.google.com/assets/colab-badge.svg\" alt=\"Open In Colab\"/></a>"
      ]
    },
    {
      "cell_type": "code",
      "execution_count": 1,
      "metadata": {
        "id": "nts5ItmyyPDy"
      },
      "outputs": [],
      "source": [
        "import requests\n",
        "from bs4 import BeautifulSoup\n",
        "\n",
        "url = \"https://www.shl.com/solutions/products/product-catalog/\"  # Placeholder\n",
        "\n",
        "response = requests.get(url)\n",
        "soup = BeautifulSoup(response.text, \"html.parser\")\n",
        "\n",
        "# Example: loop through assessment cards (change tags/classes as per actual HTML)\n",
        "assessments = soup.find_all(\"div\", class_=\"assessment-card\")\n",
        "\n",
        "for card in assessments:\n",
        "    title = card.find(\"h3\").text.strip()\n",
        "    duration = card.find(\"span\", class_=\"duration\").text.strip()\n",
        "    print(f\"Assessment: {title}, Duration: {duration}\")\n"
      ]
    },
    {
      "cell_type": "code",
      "source": [
        "import requests\n",
        "from bs4 import BeautifulSoup\n",
        "import pandas as pd\n",
        "\n",
        "# Set the URL\n",
        "url = \"https://www.shl.com/solutions/products/product-catalog/\"\n",
        "\n",
        "# Set a user-agent to mimic a browser\n",
        "headers = {\n",
        "    \"User-Agent\": \"Mozilla/5.0\"\n",
        "}\n",
        "\n",
        "# Send HTTP request\n",
        "response = requests.get(url, headers=headers)\n",
        "\n",
        "# Check for success\n",
        "if response.status_code == 200:\n",
        "    soup = BeautifulSoup(response.text, 'html.parser')\n",
        "\n",
        "    # Find all product containers (NOTE: class names may vary, inspect the site first)\n",
        "    product_cards = soup.find_all(\"div\", class_=\"product-item\")\n",
        "\n",
        "    data = []\n",
        "\n",
        "    for card in product_cards:\n",
        "        try:\n",
        "            title = card.find(\"h3\").text.strip()\n",
        "        except:\n",
        "            title = \"N/A\"\n",
        "\n",
        "        try:\n",
        "            description = card.find(\"div\", class_=\"product-desc\").text.strip()\n",
        "        except:\n",
        "            description = \"N/A\"\n",
        "\n",
        "        try:\n",
        "            link = card.find(\"a\", href=True)[\"href\"]\n",
        "            if not link.startswith(\"http\"):\n",
        "                link = \"https://www.shl.com\" + link\n",
        "        except:\n",
        "            link = \"N/A\"\n",
        "\n",
        "        # Save each product's info\n",
        "        data.append({\n",
        "            \"Title\": title,\n",
        "            \"Description\": description,\n",
        "            \"Link\": link\n",
        "        })\n",
        "\n",
        "    # Save to CSV\n",
        "    df = pd.DataFrame(data)\n",
        "    df.to_csv(\"shl_products.csv\", index=False)\n",
        "    print(\"✅ Data saved to 'shl_products.csv'\")\n",
        "\n",
        "else:\n",
        "    print(\"❌ Failed to fetch page, status code:\", response.status_code)\n"
      ],
      "metadata": {
        "colab": {
          "base_uri": "https://localhost:8080/"
        },
        "id": "zKWIsYaxyhOE",
        "outputId": "5ddf5eb1-3a25-40d4-8e37-3430c0de9f3b"
      },
      "execution_count": 2,
      "outputs": [
        {
          "output_type": "stream",
          "name": "stdout",
          "text": [
            "✅ Data saved to 'shl_products.csv'\n"
          ]
        }
      ]
    },
    {
      "cell_type": "code",
      "source": [
        "import requests\n",
        "from bs4 import BeautifulSoup\n",
        "import pandas as pd\n",
        "\n",
        "url = \"https://www.shl.com/solutions/products/product-catalog/\"\n",
        "headers = {\n",
        "    \"User-Agent\": \"Mozilla/5.0\"\n",
        "}\n",
        "response = requests.get(url, headers=headers)\n",
        "\n",
        "if response.status_code == 200:\n",
        "    soup = BeautifulSoup(response.text, 'html.parser')\n",
        "    product_cards = soup.find_all(\"div\", class_=\"product-item\")\n",
        "\n",
        "    data = []\n",
        "    for card in product_cards:\n",
        "        title = card.find(\"h3\").text.strip() if card.find(\"h3\") else \"N/A\"\n",
        "        description = card.find(\"div\", class_=\"product-desc\").text.strip() if card.find(\"div\", class_=\"product-desc\") else \"N/A\"\n",
        "        link_tag = card.find(\"a\", href=True)\n",
        "        link = \"https://www.shl.com\" + link_tag[\"href\"] if link_tag else \"N/A\"\n",
        "\n",
        "        data.append({\n",
        "            \"Title\": title,\n",
        "            \"Description\": description,\n",
        "            \"Link\": link,\n",
        "            \"Job_Level\": \"Mid\",         # Add dummy metadata for testing\n",
        "            \"Industry\": \"Tech\",\n",
        "            \"Job_Title\": \"Software Engineer\"\n",
        "        })\n",
        "\n",
        "    df = pd.DataFrame(data)\n",
        "    df.to_csv(\"shl_products.csv\", index=False)\n",
        "    print(\"✅ Saved scraped data to shl_products.csv\")\n",
        "else:\n",
        "    print(\"❌ Failed to fetch the SHL catalog.\")\n"
      ],
      "metadata": {
        "colab": {
          "base_uri": "https://localhost:8080/"
        },
        "id": "_7_V-b8_zLex",
        "outputId": "f0699317-0c21-442a-e935-0b87b0e37d0e"
      },
      "execution_count": 4,
      "outputs": [
        {
          "output_type": "stream",
          "name": "stdout",
          "text": [
            "✅ Saved scraped data to shl_products.csv\n"
          ]
        }
      ]
    },
    {
      "cell_type": "code",
      "source": [
        "with open(\"shl_products.csv\", \"r\") as f:\n",
        "    content = f.read()\n",
        "    print(content if content else \"❌ File is empty.\")\n"
      ],
      "metadata": {
        "colab": {
          "base_uri": "https://localhost:8080/"
        },
        "id": "AvpJmlp4yymk",
        "outputId": "b6247f9c-9b39-45f0-fce9-0c86025d4dc4"
      },
      "execution_count": 8,
      "outputs": [
        {
          "output_type": "stream",
          "name": "stdout",
          "text": [
            "\n",
            "\n"
          ]
        }
      ]
    },
    {
      "cell_type": "code",
      "source": [
        "import pandas as pd\n",
        "\n",
        "data = [\n",
        "    {\n",
        "        \"Title\": \"Cognitive Ability Test\",\n",
        "        \"Description\": \"Tests general reasoning and logic skills\",\n",
        "        \"Link\": \"https://shl.com/cognitive\",\n",
        "        \"Job_Level\": \"Mid\",\n",
        "        \"Industry\": \"Tech\",\n",
        "        \"Job_Title\": \"Software Engineer\"\n",
        "    },\n",
        "    {\n",
        "        \"Title\": \"Leadership Assessment\",\n",
        "        \"Description\": \"Assesses leadership and strategic skills\",\n",
        "        \"Link\": \"https://shl.com/leadership-assessment\",\n",
        "        \"Job_Level\": \"Senior\",\n",
        "        \"Industry\": \"Any\",\n",
        "        \"Job_Title\": \"Manager\"\n",
        "    },\n",
        "    {\n",
        "        \"Title\": \"Customer Service Test\",\n",
        "        \"Description\": \"Measures communication and service skills\",\n",
        "        \"Link\": \"https://shl.com/customer-service\",\n",
        "        \"Job_Level\": \"Entry\",\n",
        "        \"Industry\": \"Retail\",\n",
        "        \"Job_Title\": \"Sales Associate\"\n",
        "    }\n",
        "]\n",
        "\n",
        "df = pd.DataFrame(data)\n",
        "df.to_csv(\"shl_products.csv\", index=False)\n",
        "print(\"✅ Manually saved mock product catalog to shl_products.csv\")\n"
      ],
      "metadata": {
        "colab": {
          "base_uri": "https://localhost:8080/"
        },
        "id": "QQoE9HOtzCun",
        "outputId": "8b1859fb-ef7f-4b66-99b0-86ad96a858e6"
      },
      "execution_count": 9,
      "outputs": [
        {
          "output_type": "stream",
          "name": "stdout",
          "text": [
            "✅ Manually saved mock product catalog to shl_products.csv\n"
          ]
        }
      ]
    },
    {
      "cell_type": "code",
      "source": [
        "df = pd.read_csv(\"shl_products.csv\")\n",
        "\n",
        "def recommend_assessments(job_title, job_level, industry):\n",
        "    filtered_df = df[\n",
        "        (df[\"Job_Title\"].str.lower().str.contains(job_title.lower())) &\n",
        "        (df[\"Job_Level\"].str.lower() == job_level.lower()) &\n",
        "        (df[\"Industry\"].str.lower() == industry.lower())\n",
        "    ]\n",
        "    if filtered_df.empty:\n",
        "        filtered_df = df[\n",
        "            (df[\"Job_Level\"].str.lower() == job_level.lower()) |\n",
        "            (df[\"Industry\"].str.lower() == industry.lower())\n",
        "        ]\n",
        "    return filtered_df[[\"Title\", \"Description\", \"Link\"]]\n",
        "\n",
        "job_title = input(\"Enter job title: \")\n",
        "job_level = input(\"Enter job level (Entry/Mid/Senior): \")\n",
        "industry = input(\"Enter industry: \")\n",
        "\n",
        "recommendations = recommend_assessments(job_title, job_level, industry)\n",
        "\n",
        "if not recommendations.empty:\n",
        "    print(\"\\nRecommended SHL Assessments:\")\n",
        "    print(recommendations.to_string(index=False))\n",
        "else:\n",
        "    print(\"No relevant assessments found.\")\n"
      ],
      "metadata": {
        "colab": {
          "base_uri": "https://localhost:8080/"
        },
        "id": "vnbrOu-rzn0b",
        "outputId": "c1143907-cd17-4782-c1ef-7fe443d87c1a"
      },
      "execution_count": 13,
      "outputs": [
        {
          "output_type": "stream",
          "name": "stdout",
          "text": [
            "Enter job title: Data enginer\n",
            "Enter job level (Entry/Mid/Senior): mid\n",
            "Enter industry: tech\n",
            "\n",
            "Recommended SHL Assessments:\n",
            "                 Title                              Description                      Link\n",
            "Cognitive Ability Test Tests general reasoning and logic skills https://shl.com/cognitive\n"
          ]
        }
      ]
    },
    {
      "cell_type": "code",
      "source": [],
      "metadata": {
        "id": "7zR9zrnNzqVw"
      },
      "execution_count": null,
      "outputs": []
    }
  ]
}